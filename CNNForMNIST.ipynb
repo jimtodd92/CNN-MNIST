{
 "cells": [
  {
   "cell_type": "markdown",
   "metadata": {},
   "source": [
    "# MNIST: Predicting Hand written digits using CNN\n",
    "\n",
    "**Author:** Soutik Chakraborty (soutikc@gmail.com)\n",
    "\n",
    "We will try to predict the handwritten digits in the MNIST dataset using tensorflow via Keras APIs and find our the accuracy of our prediction"
   ]
  },
  {
   "cell_type": "code",
   "execution_count": 101,
   "metadata": {},
   "outputs": [
    {
     "name": "stdout",
     "output_type": "stream",
     "text": [
      "No GPU available on this machine\n",
      "All modules loaded\n"
     ]
    }
   ],
   "source": [
    "# Load the required libraries\n",
    "from tensorflow.examples.tutorials.mnist import input_data\n",
    "import tensorflow as tf\n",
    "import pandas as pd\n",
    "import numpy as np\n",
    "import matplotlib.pyplot as plt\n",
    "from sklearn.preprocessing import OneHotEncoder\n",
    "from keras import Sequential\n",
    "from keras.layers import Dense, Dropout, Flatten, Conv2D, MaxPooling2D\n",
    "from keras import backend as K\n",
    "if K.tensorflow_backend._get_available_gpus() == []:\n",
    "    print \"No GPU available on this machine\"\n",
    "else:\n",
    "    print \"Process will be GPU accelerated\"\n",
    "    \n",
    "print \"All modules loaded\""
   ]
  },
  {
   "cell_type": "markdown",
   "metadata": {},
   "source": [
    "## Load Data\n",
    "\n",
    "Load the data from tensorFlow library and check what the images and corresponding labels look like"
   ]
  },
  {
   "cell_type": "code",
   "execution_count": 46,
   "metadata": {},
   "outputs": [
    {
     "name": "stdout",
     "output_type": "stream",
     "text": [
      "Extracting ./train-images-idx3-ubyte.gz\n",
      "Extracting ./train-labels-idx1-ubyte.gz\n",
      "Extracting ./t10k-images-idx3-ubyte.gz\n",
      "Extracting ./t10k-labels-idx1-ubyte.gz\n"
     ]
    }
   ],
   "source": [
    "# Load the MNIST data from tf example datasets\n",
    "mnist = input_data.read_data_sets(\".\", one_hot=False)\n",
    "\n",
    "# One hot encode the training and test labels\n",
    "encoder = OneHotEncoder()\n",
    "train_labels_one_hot = encoder.fit_transform(mnist.train.labels.reshape(-1,1)).toarray()\n",
    "test_labels_one_hot = encoder.fit_transform(mnist.test.labels.reshape(-1,1)).toarray()"
   ]
  },
  {
   "cell_type": "code",
   "execution_count": 48,
   "metadata": {},
   "outputs": [
    {
     "data": {
      "image/png": "[encoded data removed]",
      "text/plain": [
       "<matplotlib.figure.Figure at 0x11a4193d0>"
      ]
     },
     "metadata": {},
     "output_type": "display_data"
    },
    {
     "name": "stdout",
     "output_type": "stream",
     "text": [
      "Actual label is : 7\n",
      "One Hot encoded label is :  [ 0.  0.  0.  0.  0.  0.  0.  1.  0.  0.]\n"
     ]
    },
    {
     "data": {
      "image/png": "[encoded data removed]",
      "text/plain": [
       "<matplotlib.figure.Figure at 0x11a9e9ad0>"
      ]
     },
     "metadata": {},
     "output_type": "display_data"
    },
    {
     "name": "stdout",
     "output_type": "stream",
     "text": [
      "Actual label is : 3\n",
      "One Hot encoded label is :  [ 0.  0.  0.  1.  0.  0.  0.  0.  0.  0.]\n"
     ]
    }
   ],
   "source": [
    "# Look at the data and the labels - both original and onehot encoded labels\n",
    "plt.imshow(mnist.train.images[0].reshape([28, 28]))\n",
    "plt.show()\n",
    "print \"Actual label is :\", mnist.train.labels[0]\n",
    "print \"One Hot encoded label is : \", train_labels_one_hot[0]\n",
    "\n",
    "plt.imshow(mnist.train.images[1].reshape([28, 28]))\n",
    "plt.show()\n",
    "print \"Actual label is :\", mnist.train.labels[1]\n",
    "print \"One Hot encoded label is : \", train_labels_one_hot[1]"
   ]
  },
  {
   "cell_type": "markdown",
   "metadata": {},
   "source": [
    "## Model Architecture\n",
    "\n",
    "We will have to first build the model architecture and define it based on our dataset. We are going to add the following layers:\n",
    "\n",
    "- Conv2D - for the convolution layers\n",
    "- Dropout - to prevent overfitting\n",
    "- Dense - a fully connected layer \n",
    "- Softmax activation - This is used to convert all predictions into probability\n",
    "\n",
    "The model architecture can be tuned to get optimal performance"
   ]
  },
  {
   "cell_type": "code",
   "execution_count": 90,
   "metadata": {},
   "outputs": [],
   "source": [
    "# Reshape the images to follow a shape of (#of image, rows, columns, color_dim)\n",
    "x_train = mnist.train.images.reshape(mnist.train.images.shape[0], 28, 28, 1)\n",
    "x_test = mnist.test.images.reshape(mnist.test.images.shape[0], 28, 28, 1)"
   ]
  },
  {
   "cell_type": "code",
   "execution_count": 143,
   "metadata": {},
   "outputs": [
    {
     "name": "stdout",
     "output_type": "stream",
     "text": [
      "_________________________________________________________________\n",
      "Layer (type)                 Output Shape              Param #   \n",
      "=================================================================\n",
      "conv2d_17 (Conv2D)           (None, 28, 28, 32)        320       \n",
      "_________________________________________________________________\n",
      "conv2d_18 (Conv2D)           (None, 28, 28, 64)        8256      \n",
      "_________________________________________________________________\n",
      "max_pooling2d_11 (MaxPooling (None, 14, 14, 64)        0         \n",
      "_________________________________________________________________\n",
      "dropout_23 (Dropout)         (None, 14, 14, 64)        0         \n",
      "_________________________________________________________________\n",
      "flatten_10 (Flatten)         (None, 12544)             0         \n",
      "_________________________________________________________________\n",
      "dense_25 (Dense)             (None, 128)               1605760   \n",
      "_________________________________________________________________\n",
      "dropout_24 (Dropout)         (None, 128)               0         \n",
      "_________________________________________________________________\n",
      "dense_26 (Dense)             (None, 10)                1290      \n",
      "=================================================================\n",
      "Total params: 1,615,626\n",
      "Trainable params: 1,615,626\n",
      "Non-trainable params: 0\n",
      "_________________________________________________________________\n"
     ]
    }
   ],
   "source": [
    "# Write the model architecture\n",
    "model = keras.Sequential()\n",
    "model.add(Conv2D(32, activation='relu', input_shape = (28, 28, 1), padding='same', kernel_size=(3,3)))\n",
    "model.add(Conv2D(64, activation='relu', padding='same', kernel_size=(2,2)))\n",
    "model.add(MaxPooling2D((2,2)))\n",
    "model.add(Dropout(0.1))\n",
    "model.add(Flatten())\n",
    "model.add(Dense(128, activation='relu', input_shape = (256, )))\n",
    "model.add(Dropout(0.2))\n",
    "model.add(Dense(10, activation='softmax', input_shape = (16, )))\n",
    "\n",
    "model.summary()"
   ]
  },
  {
   "cell_type": "markdown",
   "metadata": {},
   "source": [
    "## Compile and train the model\n",
    "\n",
    "In this we will try to compile the model architecture we created above and train the model on top of it. This will set all the weights for the model.\n",
    "\n",
    "For trial and faster approaches we will try to run on 10 epochs of the training runs. To validate that your model is working, you should see that your accuracy is increasing and not decreasing with epochs"
   ]
  },
  {
   "cell_type": "code",
   "execution_count": 144,
   "metadata": {
    "scrolled": false
   },
   "outputs": [
    {
     "name": "stdout",
     "output_type": "stream",
     "text": [
      "Epoch 1/10\n",
      "55000/55000 [==============================] - 99s 2ms/step - loss: 0.3096 - acc: 0.9069\n",
      "Epoch 2/10\n",
      "55000/55000 [==============================] - 101s 2ms/step - loss: 0.0882 - acc: 0.9739\n",
      "Epoch 3/10\n",
      "55000/55000 [==============================] - 101s 2ms/step - loss: 0.0593 - acc: 0.9823\n",
      "Epoch 4/10\n",
      "55000/55000 [==============================] - 95s 2ms/step - loss: 0.0464 - acc: 0.9860\n",
      "Epoch 5/10\n",
      "55000/55000 [==============================] - 96s 2ms/step - loss: 0.0388 - acc: 0.9883\n",
      "Epoch 6/10\n",
      "55000/55000 [==============================] - 99s 2ms/step - loss: 0.0338 - acc: 0.9893\n",
      "Epoch 7/10\n",
      "55000/55000 [==============================] - 95s 2ms/step - loss: 0.0279 - acc: 0.9915\n",
      "Epoch 8/10\n",
      "55000/55000 [==============================] - 96s 2ms/step - loss: 0.0243 - acc: 0.9927\n",
      "Epoch 9/10\n",
      "55000/55000 [==============================] - 97s 2ms/step - loss: 0.0221 - acc: 0.9933\n",
      "Epoch 10/10\n",
      "55000/55000 [==============================] - 97s 2ms/step - loss: 0.0188 - acc: 0.9942\n"
     ]
    },
    {
     "data": {
      "text/plain": [
       "<keras.callbacks.History at 0x127796190>"
      ]
     },
     "execution_count": 144,
     "metadata": {},
     "output_type": "execute_result"
    }
   ],
   "source": [
    "model.compile(loss='categorical_crossentropy',\n",
    "              optimizer='Adadelta',\n",
    "              metrics=['accuracy'])\n",
    "\n",
    "model.fit(x_train, train_labels_one_hot,\n",
    "          batch_size=128,\n",
    "          epochs=10,\n",
    "          verbose=1)"
   ]
  },
  {
   "cell_type": "markdown",
   "metadata": {},
   "source": [
    "Tuning the model architecture and running more epochs are the way to make your model much more accuracte. Feel free to play around with these and try how your model behaves."
   ]
  },
  {
   "cell_type": "markdown",
   "metadata": {},
   "source": [
    "## Test Performance\n",
    "\n",
    "We will now see how our model performs with the test data"
   ]
  },
  {
   "cell_type": "code",
   "execution_count": 145,
   "metadata": {},
   "outputs": [
    {
     "name": "stdout",
     "output_type": "stream",
     "text": [
      "Test Loss is :  0.0300701259452\n",
      "Test Accurary is :  0.9896\n"
     ]
    }
   ],
   "source": [
    "score = model.evaluate(x_test, test_labels_one_hot, verbose=0)\n",
    "print \"Test Loss is : \", score[0]\n",
    "print \"Test Accurary is : \", score[1]"
   ]
  },
  {
   "cell_type": "markdown",
   "metadata": {},
   "source": [
    "We got a fairly good accuracy with our test data of **99%.**\n",
    "\n",
    "Let us randomly check 2 images and see how our model did vs the actual labels."
   ]
  },
  {
   "cell_type": "code",
   "execution_count": 146,
   "metadata": {},
   "outputs": [
    {
     "data": {
      "image/png": "[encoded data removed]",
      "text/plain": [
       "<matplotlib.figure.Figure at 0x12b7defd0>"
      ]
     },
     "metadata": {},
     "output_type": "display_data"
    },
    {
     "name": "stdout",
     "output_type": "stream",
     "text": [
      "Actual label is : 2\n",
      "Predicted Label is : 2\n"
     ]
    },
    {
     "data": {
      "image/png": "[encoded data removed]",
      "text/plain": [
       "<matplotlib.figure.Figure at 0x126939a50>"
      ]
     },
     "metadata": {},
     "output_type": "display_data"
    },
    {
     "name": "stdout",
     "output_type": "stream",
     "text": [
      "Actual label is : 6\n",
      "Predicted Label is : 6\n"
     ]
    }
   ],
   "source": [
    "# Random image selection Number 1\n",
    "image_ind = np.random.randint(0, x_test.shape[0])\n",
    "pred = model.predict(x_test[image_ind].reshape(1, 28, 28, 1)).tolist()[0]\n",
    "\n",
    "# Look at the data and the labels - both original and onehot encoded labels\n",
    "plt.imshow(x_test[image_ind].reshape([28, 28]))\n",
    "plt.show()\n",
    "print \"Actual label is :\", mnist.test.labels[image_ind]\n",
    "print \"Predicted Label is :\", pred.index(max(pred))\n",
    "\n",
    "# Random image selection Number 2\n",
    "image_ind = np.random.randint(0, x_test.shape[0])\n",
    "pred = model.predict(x_test[image_ind].reshape(1, 28, 28, 1)).tolist()[0]\n",
    "\n",
    "# Look at the data and the labels - both original and onehot encoded labels\n",
    "plt.imshow(x_test[image_ind].reshape([28, 28]))\n",
    "plt.show()\n",
    "print \"Actual label is :\", mnist.test.labels[image_ind]\n",
    "print \"Predicted Label is :\", pred.index(max(pred))"
   ]
  },
  {
   "cell_type": "code",
   "execution_count": null,
   "metadata": {},
   "outputs": [],
   "source": []
  }
 ],
 "metadata": {
  "kernelspec": {
   "display_name": "Python 2",
   "language": "python",
   "name": "python2"
  },
  "language_info": {
   "codemirror_mode": {
    "name": "ipython",
    "version": 2
   },
   "file_extension": ".py",
   "mimetype": "text/x-python",
   "name": "python",
   "nbconvert_exporter": "python",
   "pygments_lexer": "ipython2",
   "version": "2.7.10"
  }
 },
 "nbformat": 4,
 "nbformat_minor": 2
}
