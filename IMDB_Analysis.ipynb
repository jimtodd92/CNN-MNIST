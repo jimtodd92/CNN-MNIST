{
  "nbformat": 4,
  "nbformat_minor": 0,
  "metadata": {
    "colab": {
      "name": "IMDB_Analysis",
      "provenance": [],
      "authorship_tag": "ABX9TyOynxWNMB2egW8X4Ew6q/KA",
      "include_colab_link": true
    },
    "kernelspec": {
      "name": "python3",
      "display_name": "Python 3"
    },
    "language_info": {
      "name": "python"
    }
  },
  "cells": [
    {
      "cell_type": "markdown",
      "metadata": {
        "id": "view-in-github",
        "colab_type": "text"
      },
      "source": [
        "<a href=\"https://colab.research.google.com/github/jimtodd92/CNN-MNIST/blob/master/IMDB_Analysis.ipynb\" target=\"_parent\"><img src=\"https://colab.research.google.com/assets/colab-badge.svg\" alt=\"Open In Colab\"/></a>"
      ]
    },
    {
      "cell_type": "markdown",
      "source": [
        "# **IMDB Datasets**\n",
        "- Multiple datasets which describes IMDB ratings for movies, the movie details, cast and crew etc.\n",
        "\n",
        "# **Task:**\n",
        "1. Get the top 10 movies with minimum 50 votes and the ranking should be based on\n",
        "(numVotes/averageNumberOfVotes)* averageRating\n",
        "2. For the above 10 movies, list the persons who are most often credited and list the\n",
        "different titles of the 10 movies.\n",
        "\n",
        "# **Approach:**\n",
        "Use Pyspark, windows, joins, filters, aggregations and other transformations\n",
        "\n",
        "**Scalability:**\n",
        "Yes, cluster can be vertically or horizonatally scaled."
      ],
      "metadata": {
        "id": "4Am7hDHE6ICo"
      }
    },
    {
      "cell_type": "markdown",
      "source": [
        "# **Create Spark Session Object**"
      ],
      "metadata": {
        "id": "hLk7mhlG0ZcL"
      }
    },
    {
      "cell_type": "code",
      "source": [
        "from pyspark.sql import SparkSession"
      ],
      "metadata": {
        "id": "BsKFQd2jwtHR"
      },
      "execution_count": null,
      "outputs": []
    },
    {
      "cell_type": "code",
      "source": [
        "spark = SparkSession.Builder().appName('IMDB Data Analysis').getOrCreate()"
      ],
      "metadata": {
        "id": "8lAZyeaGwvu9"
      },
      "execution_count": null,
      "outputs": []
    },
    {
      "cell_type": "markdown",
      "source": [
        "# **Load datasets from file**"
      ],
      "metadata": {
        "id": "FhCpPvus0foB"
      }
    },
    {
      "cell_type": "code",
      "source": [
        "df_name = spark.read.csv('./dataset/name.basics.tsv.gz', sep = \"\\t\", header = True)\n",
        "df_ratings = spark.read.csv('./dataset/title.ratings.tsv.gz', sep = \"\\t\", header = True)\n",
        "df_title_basics = spark.read.csv('./dataset/title.basics.tsv.gz', sep = \"\\t\", header = True)"
      ],
      "metadata": {
        "id": "5Sf4DqUfw-eH"
      },
      "execution_count": 42,
      "outputs": []
    },
    {
      "cell_type": "code",
      "source": [
        "df_title_basics.show(10, truncate = False)"
      ],
      "metadata": {
        "colab": {
          "base_uri": "https://localhost:8080/"
        },
        "id": "j4XKhof21ue-",
        "outputId": "3f9b2d08-8154-40bc-8f93-69560e830038"
      },
      "execution_count": 25,
      "outputs": [
        {
          "output_type": "stream",
          "name": "stdout",
          "text": [
            "+---------+---------+-------------------------------------------+-------------------------------------------+-------+---------+-------+--------------+------------------------+\n",
            "|tconst   |titleType|primaryTitle                               |originalTitle                              |isAdult|startYear|endYear|runtimeMinutes|genres                  |\n",
            "+---------+---------+-------------------------------------------+-------------------------------------------+-------+---------+-------+--------------+------------------------+\n",
            "|tt0000001|short    |Carmencita                                 |Carmencita                                 |0      |1894     |\\N     |1             |Documentary,Short       |\n",
            "|tt0000002|short    |Le clown et ses chiens                     |Le clown et ses chiens                     |0      |1892     |\\N     |5             |Animation,Short         |\n",
            "|tt0000003|short    |Pauvre Pierrot                             |Pauvre Pierrot                             |0      |1892     |\\N     |4             |Animation,Comedy,Romance|\n",
            "|tt0000004|short    |Un bon bock                                |Un bon bock                                |0      |1892     |\\N     |12            |Animation,Short         |\n",
            "|tt0000005|short    |Blacksmith Scene                           |Blacksmith Scene                           |0      |1893     |\\N     |1             |Comedy,Short            |\n",
            "|tt0000006|short    |Chinese Opium Den                          |Chinese Opium Den                          |0      |1894     |\\N     |1             |Short                   |\n",
            "|tt0000007|short    |Corbett and Courtney Before the Kinetograph|Corbett and Courtney Before the Kinetograph|0      |1894     |\\N     |1             |Short,Sport             |\n",
            "|tt0000008|short    |Edison Kinetoscopic Record of a Sneeze     |Edison Kinetoscopic Record of a Sneeze     |0      |1894     |\\N     |1             |Documentary,Short       |\n",
            "|tt0000009|short    |Miss Jerry                                 |Miss Jerry                                 |0      |1894     |\\N     |40            |Romance,Short           |\n",
            "|tt0000010|short    |Leaving the Factory                        |La sortie de l'usine Lumière à Lyon        |0      |1895     |\\N     |1             |Documentary,Short       |\n",
            "+---------+---------+-------------------------------------------+-------------------------------------------+-------+---------+-------+--------------+------------------------+\n",
            "only showing top 10 rows\n",
            "\n"
          ]
        }
      ]
    },
    {
      "cell_type": "code",
      "source": [
        "from pyspark.sql.functions import *\n",
        "from pyspark.sql import Window\n",
        "\n",
        "# Filter movies with atleast 50 Num of votes.\n",
        "df_ratings_50_votes = df_ratings.filter(df_ratings.numVotes >= 50)\n",
        "\n",
        "# Populate averageNumOfVotes column.\n",
        "df_ratings_with_avg = df_ratings_50_votes.withColumn('averageNumberOfVotes',lit(\n",
        "  df_ratings.agg({'tconst': 'avg', \n",
        "               'averageRating': 'avg',\n",
        "               'numVotes': 'avg'}).select(['avg(numVotes)']).first()[0]))\n",
        "\n",
        "# Populate Score column.\n",
        "# Score = (numVotes/averageNumberOfVotes)* averageRating.\n",
        "df_ratings_with_score = df_ratings_with_avg.withColumn('Score', lit(\n",
        "  round(\n",
        "    (\n",
        "        df_ratings_with_avg['numVotes']/df_ratings_with_avg['averageNumberOfVotes']\n",
        "     )*df_ratings_with_avg['averageRating']\n",
        "  )\n",
        ")).orderBy(col('Score').desc())\n",
        "\n",
        "# Window Specification for populate Rank based on Score.\n",
        "tconst_window = Window.orderBy(desc(\"Score\"))\n",
        "\n",
        "# Filter first 10 movies with top 10 ranks.\n",
        "df_ratings_with_rank = df_ratings_with_score.withColumn(\n",
        "    'Rank',\n",
        "     dense_rank().over(tconst_window)\n",
        "     ).filter(col('Rank')<=10)"
      ],
      "metadata": {
        "id": "_QaSbLJixTb5"
      },
      "execution_count": 58,
      "outputs": []
    },
    {
      "cell_type": "markdown",
      "source": [
        "# **Top 10 movies based on calculated Score**"
      ],
      "metadata": {
        "id": "8Hzz0W0h0R5U"
      }
    },
    {
      "cell_type": "code",
      "source": [
        "df_ratings_top_10 = df_ratings_with_rank.join(df_title_basics, df_title_basics.tconst==df_ratings_with_rank.tconst, 'left').select(\n",
        "    df_title_basics.originalTitle,\n",
        "    df_ratings_with_rank.tconst,\n",
        "    df_ratings_with_rank.averageRating,\n",
        "    df_ratings_with_rank.numVotes,\n",
        "    round(df_ratings_with_rank.averageNumberOfVotes).alias('averageNumberOfVotes'),\n",
        "    df_ratings_with_rank.Score,\n",
        "    df_ratings_with_rank.Rank,\n",
        ").orderBy('Rank')"
      ],
      "metadata": {
        "id": "8YRtpmhIzfol"
      },
      "execution_count": 59,
      "outputs": []
    },
    {
      "cell_type": "code",
      "source": [
        "df_ratings_top_10.show(truncate=False)"
      ],
      "metadata": {
        "colab": {
          "base_uri": "https://localhost:8080/"
        },
        "id": "buz1rF9v2BcH",
        "outputId": "e96b4b0e-4c83-4fed-f1d7-df58627f8b2f"
      },
      "execution_count": 60,
      "outputs": [
        {
          "output_type": "stream",
          "name": "stdout",
          "text": [
            "+------------------------+---------+-------------+--------+--------------------+-------+----+\n",
            "|originalTitle           |tconst   |averageRating|numVotes|averageNumberOfVotes|Score  |Rank|\n",
            "+------------------------+---------+-------------+--------+--------------------+-------+----+\n",
            "|The Shawshank Redemption|tt0111161|9.3          |2545209 |999.0               |23704.0|1   |\n",
            "|The Dark Knight         |tt0468569|9.0          |2495493 |999.0               |22491.0|2   |\n",
            "|null                    |tt1375666|8.8          |2235341 |999.0               |19699.0|3   |\n",
            "|Game of Thrones         |tt0944947|9.2          |1951975 |999.0               |17984.0|4   |\n",
            "|Fight Club              |tt0137523|8.8          |2003393 |999.0               |17655.0|5   |\n",
            "|Pulp Fiction            |tt0110912|8.9          |1957786 |999.0               |17449.0|6   |\n",
            "|Forrest Gump            |tt0109830|8.8          |1963908 |999.0               |17307.0|7   |\n",
            "|The Godfather           |tt0068646|9.2          |1750900 |999.0               |16131.0|8   |\n",
            "|The Matrix              |tt0133093|8.7          |1836181 |999.0               |15998.0|9   |\n",
            "|Breaking Bad            |tt0903747|9.4          |1667918 |999.0               |15701.0|10  |\n",
            "+------------------------+---------+-------------+--------+--------------------+-------+----+\n",
            "\n"
          ]
        }
      ]
    }
  ]
}